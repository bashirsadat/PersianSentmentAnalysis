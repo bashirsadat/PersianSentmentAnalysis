{
 "cells": [
  {
   "cell_type": "code",
   "execution_count": 1,
   "metadata": {},
   "outputs": [],
   "source": [
    "import pandas as pd\n",
    "df = pd.read_csv (r'C:/gits/nlp/part-0.csv')"
   ]
  },
  {
   "cell_type": "code",
   "execution_count": 2,
   "metadata": {},
   "outputs": [
    {
     "data": {
      "text/html": [
       "<div>\n",
       "<style scoped>\n",
       "    .dataframe tbody tr th:only-of-type {\n",
       "        vertical-align: middle;\n",
       "    }\n",
       "\n",
       "    .dataframe tbody tr th {\n",
       "        vertical-align: top;\n",
       "    }\n",
       "\n",
       "    .dataframe thead th {\n",
       "        text-align: right;\n",
       "    }\n",
       "</style>\n",
       "<table border=\"1\" class=\"dataframe\">\n",
       "  <thead>\n",
       "    <tr style=\"text-align: right;\">\n",
       "      <th></th>\n",
       "      <th>سومين شماره ماهنامه دنياي كامپيوتر و \\nارتباطات منتشر شد \\nس</th>\n",
       "      <th>وتر و \\nارتباطات منتشر شد \\nسومين شماره ماهنامه دنياي كامپيوتر و ارتباطات به صاحب \\nامتيازي محمود اروج زاده منتشر شد. \\nاين ماهنامه، حاوي مطالبي در زمينه كامپيوتر، مخابرات و \\nاطلاع رساني و نيز نگاه فرهنگي، اجتماعي به ارتباطات و \\nرسانه هاي مدرن است. \\nنسخه اينترنتي ماهنامه دنياي كامپيوتر و ارتباطات در \\nنشاني زير، قابل دستيابي است. \\ncom.ccwmagazine.//WWW: http\\n\\r\\n\\r\\n.DID\\t52253S1</th>\n",
       "    </tr>\n",
       "  </thead>\n",
       "  <tbody>\n",
       "    <tr>\n",
       "      <th>0</th>\n",
       "      <td>z\\r\\nبازمانده اي از سرزمين بيهق \\n سبزوار - خب...</td>\n",
       "      <td>بزوار - خبرنگار همشهري: مناره تاريخي خسروجرد ب...</td>\n",
       "    </tr>\n",
       "    <tr>\n",
       "      <th>1</th>\n",
       "      <td>خبرهايي از واليبال برنامه بازيهاي \\nقهرمان وال...</td>\n",
       "      <td>اي \\nقهرمان واليبال جوانان جهان و اروپا در \\nت...</td>\n",
       "    </tr>\n",
       "  </tbody>\n",
       "</table>\n",
       "</div>"
      ],
      "text/plain": [
       "  سومين شماره ماهنامه دنياي كامپيوتر و \\nارتباطات منتشر شد \\nس  \\\n",
       "0  z\\r\\nبازمانده اي از سرزمين بيهق \\n سبزوار - خب...             \n",
       "1  خبرهايي از واليبال برنامه بازيهاي \\nقهرمان وال...             \n",
       "\n",
       "  وتر و \\nارتباطات منتشر شد \\nسومين شماره ماهنامه دنياي كامپيوتر و ارتباطات به صاحب \\nامتيازي محمود اروج زاده منتشر شد. \\nاين ماهنامه، حاوي مطالبي در زمينه كامپيوتر، مخابرات و \\nاطلاع رساني و نيز نگاه فرهنگي، اجتماعي به ارتباطات و \\nرسانه هاي مدرن است. \\nنسخه اينترنتي ماهنامه دنياي كامپيوتر و ارتباطات در \\nنشاني زير، قابل دستيابي است. \\ncom.ccwmagazine.//WWW: http\\n\\r\\n\\r\\n.DID\\t52253S1  \n",
       "0  بزوار - خبرنگار همشهري: مناره تاريخي خسروجرد ب...                                                                                                                                                                                                                                                                                                                                                   \n",
       "1  اي \\nقهرمان واليبال جوانان جهان و اروپا در \\nت...                                                                                                                                                                                                                                                                                                                                                   "
      ]
     },
     "execution_count": 2,
     "metadata": {},
     "output_type": "execute_result"
    }
   ],
   "source": [
    "df.head(2)"
   ]
  },
  {
   "cell_type": "code",
   "execution_count": 3,
   "metadata": {},
   "outputs": [],
   "source": [
    "from nltk.corpus import stopwords  \n",
    " \n",
    "stop_words = set(stopwords.words('persian'))  \n",
    "from parsivar import Normalizer\n",
    "my_normalizer = Normalizer(statistical_space_correction=True)\n",
    "from __future__ import unicode_literals\n",
    "from hazm import *\n",
    "lemmatizer = Lemmatizer()\n",
    "stemmer = Stemmer()\n",
    "stemAndLemma = []  \n",
    "import re"
   ]
  },
  {
   "cell_type": "code",
   "execution_count": 6,
   "metadata": {},
   "outputs": [
    {
     "name": "stdout",
     "output_type": "stream",
     "text": [
      "  وتر و \\nارتباطات منتشر شد \\nسومين شماره ماهنامه دنياي كامپيوتر و ارتباطات به صاحب \\nامتيازي محمود اروج زاده منتشر شد. \\nاين ماهنامه، حاوي مطالبي در زمينه كامپيوتر، مخابرات و \\nاطلاع رساني و نيز نگاه فرهنگي، اجتماعي به ارتباطات و \\nرسانه هاي مدرن است. \\nنسخه اينترنتي ماهنامه دنياي كامپيوتر و ارتباطات در \\nنشاني زير، قابل دستيابي است. \\ncom.ccwmagazine.//WWW: http\\n\\r\\n\\r\\n.DID\\t52253S1\n",
      "0  بزوار - خبرنگار همشهري: مناره تاريخي خسروجرد ب...                                                                                                                                                                                                                                                                                                                                                 \n",
      "None\n"
     ]
    }
   ],
   "source": [
    "\n",
    "print (print( df.iloc[0:0+1, 1:2]))"
   ]
  },
  {
   "cell_type": "code",
   "execution_count": 7,
   "metadata": {},
   "outputs": [
    {
     "name": "stdout",
     "output_type": "stream",
     "text": [
      "  وتر و \\nارتباطات منتشر شد \\nسومين شماره ماهنامه دنياي كامپيوتر و ارتباطات به صاحب \\nامتيازي محمود اروج زاده منتشر شد. \\nاين ماهنامه، حاوي مطالبي در زمينه كامپيوتر، مخابرات و \\nاطلاع رساني و نيز نگاه فرهنگي، اجتماعي به ارتباطات و \\nرسانه هاي مدرن است. \\nنسخه اينترنتي ماهنامه دنياي كامپيوتر و ارتباطات در \\nنشاني زير، قابل دستيابي است. \\ncom.ccwmagazine.//WWW: http\\n\\r\\n\\r\\n.DID\\t52253S1\n",
      "0  بزوار - خبرنگار همشهري: مناره تاريخي خسروجرد ب...                                                                                                                                                                                                                                                                                                                                                 \n"
     ]
    }
   ],
   "source": [
    "text = df.iloc[0:1, 1:2]\n",
    "print (text)"
   ]
  },
  {
   "cell_type": "code",
   "execution_count": null,
   "metadata": {},
   "outputs": [],
   "source": []
  },
  {
   "cell_type": "code",
   "execution_count": 8,
   "metadata": {},
   "outputs": [
    {
     "name": "stdout",
     "output_type": "stream",
     "text": [
      "وتر و \n",
      "ارتباطات منتشر شد \n",
      "سومين شماره ماهنامه دنياي كامپيوتر و ارتباطات به صاحب \n",
      "امتيازي محمود اروج زاده منتشر شد. \n",
      "اين ماهنامه، حاوي مطالبي در زمينه كامپيوتر، مخابرات و \n",
      "اطلاع رساني و نيز نگاه فرهنگي، اجتماعي به ارتباطات و \n",
      "رسانه هاي مدرن است. \n",
      "نسخه اينترنتي ماهنامه دنياي كامپيوتر و ارتباطات در \n",
      "نشاني زير، قابل دستيابي است. \n",
      "com.ccwmagazine.//WWW: http\n",
      "\r\n",
      "\r\n",
      ".DID\t52253S1\n"
     ]
    }
   ],
   "source": [
    "\n",
    "text_withoutlines = ''.join([line.strip() for line in df.iloc[0:1, 1:2]])\n",
    "print (text_withoutlines)\n"
   ]
  },
  {
   "cell_type": "code",
   "execution_count": 9,
   "metadata": {},
   "outputs": [
    {
     "name": "stdout",
     "output_type": "stream",
     "text": [
      "<class 'str'>\n"
     ]
    }
   ],
   "source": [
    "print (type(text_withoutlines))"
   ]
  },
  {
   "cell_type": "code",
   "execution_count": 10,
   "metadata": {},
   "outputs": [],
   "source": [
    "import nltk"
   ]
  },
  {
   "cell_type": "code",
   "execution_count": 11,
   "metadata": {},
   "outputs": [
    {
     "name": "stdout",
     "output_type": "stream",
     "text": [
      "<class 'str'>\n"
     ]
    }
   ],
   "source": [
    "import re\n",
    "textWithoutDigits = re.sub(r'\\d+', '', text_withoutlines)\n",
    "print (type(text_withoutlines))"
   ]
  },
  {
   "cell_type": "code",
   "execution_count": 12,
   "metadata": {},
   "outputs": [
    {
     "name": "stdout",
     "output_type": "stream",
     "text": [
      "وتر و ارتباطات منتشر شد سومین شماره ماهنامه دنیای کامپیوتر و ارتباطات به صاحب امتیازی محمود اروج‌زاده منتشر شد . این ماهنامه ، حاوی مطالبی در زمینه کامپیوتر ، مخابرات و اطلاع‌رسانی و نیز نگاه فرهنگی ، اجتماعی به ارتباطات و رسانه‌های مدرن است . نسخه اینترنتی ماهنامه دنیای کامپیوتر و ارتباطات در نشانی زیر ، قابل دستیابی است . ‌com . ‌ccwmagazine‌ .// ‌WWW : http‌ . ‌DID S\n"
     ]
    }
   ],
   "source": [
    "from parsivar import Normalizer\n",
    "normalizer = Normalizer(statistical_space_correction=True)\n",
    "normalized_text= normalizer.normalize(textWithoutDigits)\n",
    "print (normalized_text)"
   ]
  },
  {
   "cell_type": "code",
   "execution_count": 13,
   "metadata": {},
   "outputs": [],
   "source": [
    "textWithoutU200c = normalized_text.replace('\\u200c', '')"
   ]
  },
  {
   "cell_type": "code",
   "execution_count": 14,
   "metadata": {},
   "outputs": [
    {
     "name": "stdout",
     "output_type": "stream",
     "text": [
      "['وتر', 'و', 'ارتباطات', 'منتشر', 'شد', 'سومین', 'شماره', 'ماهنامه', 'دنیای', 'کامپیوتر', 'و', 'ارتباطات', 'به', 'صاحب', 'امتیازی', 'محمود', 'اروجزاده', 'منتشر', 'شد', '.', 'این', 'ماهنامه', '،', 'حاوی', 'مطالبی', 'در', 'زمینه', 'کامپیوتر', '،', 'مخابرات', 'و', 'اطلاعرسانی', 'و', 'نیز', 'نگاه', 'فرهنگی', '،', 'اجتماعی', 'به', 'ارتباطات', 'و', 'رسانههای', 'مدرن', 'است', '.', 'نسخه', 'اینترنتی', 'ماهنامه', 'دنیای', 'کامپیوتر', 'و', 'ارتباطات', 'در', 'نشانی', 'زیر', '،', 'قابل', 'دستیابی', 'است', '.', 'com', '.', 'ccwmagazine', '.', '//', 'WWW', ':', 'http', '.', 'DID', 'S']\n"
     ]
    }
   ],
   "source": [
    "words = word_tokenize(textWithoutU200c)\n",
    "print(words)"
   ]
  },
  {
   "cell_type": "code",
   "execution_count": 15,
   "metadata": {},
   "outputs": [
    {
     "name": "stdout",
     "output_type": "stream",
     "text": [
      "['وتر', 'ارتباطات', 'منتشر', 'سومین', 'شماره', 'ماهنامه', 'دنیای', 'کامپیوتر', 'ارتباطات', 'صاحب', 'امتیازی', 'محمود', 'اروجزاده', 'منتشر', 'ماهنامه', 'حاوی', 'مطالبی', 'کامپیوتر', 'مخابرات', 'اطلاعرسانی', 'فرهنگی', 'اجتماعی', 'ارتباطات', 'رسانههای', 'مدرن', 'نسخه', 'اینترنتی', 'ماهنامه', 'دنیای', 'کامپیوتر', 'ارتباطات', 'نشانی', 'دستیابی', 'ccwmagazine']\n"
     ]
    }
   ],
   "source": [
    "from nltk.corpus import stopwords\n",
    "stop_words = set(stopwords.words('persian'))  \n",
    "filtered_sentence = []   \n",
    "for w in words:  \n",
    "    if w not in stop_words:  \n",
    "        filtered_sentence.append(w)  \n",
    "print(filtered_sentence)"
   ]
  },
  {
   "cell_type": "code",
   "execution_count": null,
   "metadata": {},
   "outputs": [],
   "source": [
    "from parsivar import Normalizer\n",
    "my_normalizer = Normalizer(statistical_space_correction=True)\n",
    "print(my_normalizer.normalize(text))\n",
    "text = my_normalizer.normalize(text)\n",
    "print (text)"
   ]
  },
  {
   "cell_type": "code",
   "execution_count": 21,
   "metadata": {},
   "outputs": [
    {
     "name": "stdout",
     "output_type": "stream",
     "text": [
      "['وتر', 'ارتباطات', 'منتشر', 'سومین', 'شماره', 'ماهنامه', 'دنیای', 'کامپیوتر', 'ارتباطات', 'صاحب', 'امتیازی', 'محمود', 'اروجزاده', 'منتشر', 'ماهنامه', 'حاوی', 'مطالبی', 'کامپیوتر', 'مخابرات', 'اطلاعرسانی', 'فرهنگی', 'اجتماعی', 'ارتباطات', 'رسانههای', 'مدرن', 'نسخه', 'اینترنتی', 'ماهنامه', 'دنیای', 'کامپیوتر', 'ارتباطات', 'نشانی', 'دستیابی', 'com', 'ccwmagazine', 'WWW', 'http']\n"
     ]
    },
    {
     "data": {
      "text/plain": [
       "list"
      ]
     },
     "execution_count": 21,
     "metadata": {},
     "output_type": "execute_result"
    }
   ],
   "source": [
    "from nltk.corpus import stopwords  \n",
    "from nltk.tokenize import word_tokenize   \n",
    "stop_words = set(stopwords.words('persian'))  \n",
    "word_tokens = word_tokenize(text)    \n",
    "filtered_sentence = [w for w in word_tokens if not w in stop_words]   \n",
    "filtered_sentence = []   \n",
    "for w in word_tokens:  \n",
    "    if w not in stop_words:  \n",
    "        filtered_sentence.append(w)    \n",
    "print(filtered_sentence)\n",
    "type(filtered_sentence)"
   ]
  },
  {
   "cell_type": "code",
   "execution_count": 128,
   "metadata": {},
   "outputs": [
    {
     "data": {
      "text/plain": [
       "'شوق'"
      ]
     },
     "execution_count": 128,
     "metadata": {},
     "output_type": "execute_result"
    }
   ],
   "source": [
    " stemmer.stem('شوقی')"
   ]
  },
  {
   "cell_type": "code",
   "execution_count": 132,
   "metadata": {},
   "outputs": [
    {
     "data": {
      "text/plain": [
       "'گفت#گو'"
      ]
     },
     "execution_count": 132,
     "metadata": {},
     "output_type": "execute_result"
    }
   ],
   "source": [
    "lemmatizer.lemmatize('گفتیم')"
   ]
  },
  {
   "cell_type": "code",
   "execution_count": 115,
   "metadata": {},
   "outputs": [
    {
     "name": "stdout",
     "output_type": "stream",
     "text": [
      "['و', 'ارتباط', 'منتشر', 'سومین', 'شماره', 'ماهنامه', 'دنیا', 'کامپیو', 'ارتباط', 'صاحب', 'امتیاز', 'محمود', 'اروجزاده', 'منتشر', 'ماهنامه', 'حاو', 'مطالب', 'کامپیو', 'مخابر', 'اطلاعرسان', 'فرهنگ', 'اجتماع', 'ارتباط', 'رسانه', 'مدرن', 'نسخه', 'اینترن', 'ماهنامه', 'دنیا', 'کامپیو', 'ارتباط', 'نشان', 'دستیاب', 'ccwmagazine']\n"
     ]
    }
   ],
   "source": [
    "#here you need the for loop to run on each word\n",
    "lemmatizer = Lemmatizer()\n",
    "stemAndLemma = []  \n",
    "for x in filtered_sentence:\n",
    "    x=lemmatizer.lemmatize(x)\n",
    "    x=stemmer.stem(x)\n",
    "    stemAndLemma.append(x)\n",
    "print(stemAndLemma)\n",
    "text=' '.join(stemAndLemma) \n",
    "# lemmatizer.lemmatize(filtered_sentence)"
   ]
  },
  {
   "cell_type": "code",
   "execution_count": 176,
   "metadata": {},
   "outputs": [],
   "source": [
    "# from parsivar import FindStems\n",
    "# my_stemmer = FindStems()\n",
    "# for x in text:\n",
    "#     print(my_stemmer.convert_to_stem(x));"
   ]
  },
  {
   "cell_type": "code",
   "execution_count": 116,
   "metadata": {},
   "outputs": [
    {
     "name": "stdout",
     "output_type": "stream",
     "text": [
      "[('و', 'CON'), ('ارتباط', 'N'), ('منتشر', 'ADJ'), ('سومین', 'ADJ'), ('شماره', 'N'), ('ماهنامه', 'N'), ('دنیا', 'N'), ('کامپیو', 'ADV'), ('ارتباط', 'N'), ('صاحب', 'N'), ('امتیاز', 'N'), ('محمود', 'N'), ('اروجزاده', 'N'), ('منتشر', 'ADJ'), ('ماهنامه', 'N'), ('حاو', 'N'), ('مطالب', 'N'), ('کامپیو', 'N'), ('مخابر', 'N'), ('اطلاعرسان', 'ADJ'), ('فرهنگ', 'N'), ('اجتماع', 'N'), ('ارتباط', 'N'), ('رسانه', 'N'), ('مدرن', 'ADJ'), ('نسخه', 'N'), ('اینترن', 'N'), ('ماهنامه', 'N'), ('دنیا', 'N'), ('کامپیو', 'N'), ('ارتباط', 'N'), ('نشان', 'N'), ('دستیاب', 'N'), ('ccwmagazine', 'FW')]\n"
     ]
    }
   ],
   "source": [
    "from parsivar import POSTagger\n",
    "my_tagger = POSTagger(tagging_model=\"wapiti\")  # tagging_model = \"wapiti\" or \"stanford\". \"wapiti\" is faster than \"stanford\"\n",
    "text_tags = my_tagger.parse(stemAndLemma)\n",
    "print(text_tags)"
   ]
  },
  {
   "cell_type": "code",
   "execution_count": null,
   "metadata": {},
   "outputs": [],
   "source": []
  },
  {
   "cell_type": "code",
   "execution_count": null,
   "metadata": {},
   "outputs": [],
   "source": []
  },
  {
   "cell_type": "code",
   "execution_count": null,
   "metadata": {},
   "outputs": [],
   "source": []
  }
 ],
 "metadata": {
  "kernelspec": {
   "display_name": "Python 3",
   "language": "python",
   "name": "python3"
  },
  "language_info": {
   "codemirror_mode": {
    "name": "ipython",
    "version": 3
   },
   "file_extension": ".py",
   "mimetype": "text/x-python",
   "name": "python",
   "nbconvert_exporter": "python",
   "pygments_lexer": "ipython3",
   "version": "3.8.3"
  }
 },
 "nbformat": 4,
 "nbformat_minor": 4
}
